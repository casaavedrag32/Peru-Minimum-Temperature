{
 "cells": [
  {
   "cell_type": "code",
   "execution_count": null,
   "id": "1b09eb91",
   "metadata": {},
   "outputs": [],
   "source": [
    "pip install unidecode\n"
   ]
  },
  {
   "cell_type": "code",
   "execution_count": null,
   "id": "736f8c16",
   "metadata": {},
   "outputs": [],
   "source": [
    "import geopandas as gpd\n",
    "import rasterio\n",
    "from rasterio.plot import show\n",
    "import matplotlib.pyplot as plt\n",
    "import numpy as np\n",
    "import unidecode\n",
    "import pandas as pd\n",
    "from rasterstats import zonal_stats"
   ]
  },
  {
   "cell_type": "code",
   "execution_count": null,
   "id": "40b5399c",
   "metadata": {},
   "outputs": [],
   "source": [
    "print(\"Número de bandas:\", raster.count)"
   ]
  },
  {
   "cell_type": "code",
   "execution_count": null,
   "id": "e54505e8",
   "metadata": {},
   "outputs": [],
   "source": [
    "# Cargar shapefile\n",
    "gdf = gpd.read_file(\"data/DISTRITOS.shp\")\n",
    "\n",
    "# Asegurar que los nombres de columnas estén en mayúsculas\n",
    "gdf.columns = [col.upper() for col in gdf.columns]\n",
    "\n",
    "# Limpiar tildes y pasar a mayúsculas en columnas clave\n",
    "for col in [\"DEPARTAMEN\", \"PROVINCIA\", \"DISTRITO\"]:\n",
    "    gdf[col] = gdf[col].apply(lambda x: unidecode.unidecode(x.upper()))\n",
    "\n",
    "# Renombrar la columna GEOMETRY a geometry\n",
    "gdf = gdf.rename(columns={\"GEOMETRY\": \"geometry\"})\n",
    "\n",
    "# Asegurar que es GeoDataFrame y tiene CRS correcto\n",
    "gdf = gpd.GeoDataFrame(gdf, geometry=\"geometry\", crs=\"EPSG:4326\")\n",
    "\n",
    "# Renombrar la columna y convertirla a string\n",
    "gdf = gdf.rename(columns={\"IDDIST\": \"UBIGEO\"})\n",
    "gdf[\"UBIGEO\"] = gdf[\"UBIGEO\"].astype(str)\n",
    "\n",
    "# Revisar resultado\n",
    "display(gdf.head())\n"
   ]
  },
  {
   "cell_type": "code",
   "execution_count": null,
   "id": "b6845c2a",
   "metadata": {},
   "outputs": [],
   "source": [
    "# Cargar el GeoTIFF\n",
    "src = rasterio.open(\"data/tmin_raster.tif\")\n",
    "\n",
    "# Ver cuántas bandas tiene\n",
    "print(\"Número de bandas:\", src.count)\n",
    "\n",
    "# Iterar sobre las bandas (Band 1 = 2020, Band 2 = 2021, etc.)\n",
    "for i in range(1, src.count + 1):\n",
    "    band = src.read(i)\n",
    "    year = 2020 + (i - 1)\n",
    "    print(f\"Banda {i} = Año {year}, tamaño: {band.shape}\")"
   ]
  },
  {
   "cell_type": "code",
   "execution_count": null,
   "id": "28440592",
   "metadata": {},
   "outputs": [],
   "source": [
    "#Vamos a verificar si todas las bandas estan con la escala correcta\n",
    "\n",
    "print(\"📊 Valores por banda (para verificar escala):\")\n",
    "for i in range(1, raster.count + 1):\n",
    "    band = raster.read(i)\n",
    "    print(f\"Banda {i} ({2019 + i}):\")\n",
    "    print(f\"  Mín: {np.nanmin(band):.2f}\")\n",
    "    print(f\"  Máx: {np.nanmax(band):.2f}\")\n",
    "    print(\"-\" * 30)\n",
    "\n",
    "#Podemos que sí, son temperaturas realistas"
   ]
  },
  {
   "cell_type": "code",
   "execution_count": null,
   "id": "1d209144",
   "metadata": {},
   "outputs": [],
   "source": [
    "results = []\n",
    "\n",
    "for i in range(1, raster.count + 1):\n",
    "    band = raster.read(i)\n",
    "    year = 2019 + i  # banda 1 = 2020\n",
    "    \n",
    "    stats = zonal_stats(\n",
    "        gdf,                  \n",
    "        band,                 \n",
    "        affine=raster.transform,\n",
    "        nodata=raster.nodata,\n",
    "        stats=[\"count\", \"mean\", \"min\", \"max\", \"std\", \"percentile_10\", \"percentile_90\"],\n",
    "        add_stats={\"range\": lambda x: np.nanmax(x) - np.nanmin(x)}\n",
    "    )\n",
    "    \n",
    "    # Crear DataFrame limpio para esta banda\n",
    "    df_band = gdf[[\"UBIGEO\", \"DEPARTAMEN\", \"PROVINCIA\", \"DISTRITO\"]].copy()\n",
    "    df_band[\"year\"] = year\n",
    "    df_band[\"count\"] = [s[\"count\"] for s in stats]\n",
    "    df_band[\"mean\"] = [s[\"mean\"] for s in stats]\n",
    "    df_band[\"min\"] = [s[\"min\"] for s in stats]\n",
    "    df_band[\"max\"] = [s[\"max\"] for s in stats]\n",
    "    df_band[\"std\"] = [s[\"std\"] for s in stats]\n",
    "    df_band[\"p10\"] = [s[\"percentile_10\"] for s in stats]\n",
    "    df_band[\"p90\"] = [s[\"percentile_90\"] for s in stats]\n",
    "    df_band[\"range\"] = [s[\"range\"] for s in stats]\n",
    "    \n",
    "    results.append(df_band)\n",
    "\n",
    "zonal_stats_df = pd.concat(results, ignore_index=True)\n",
    "display(zonal_stats_df.head())\n"
   ]
  },
  {
   "cell_type": "code",
   "execution_count": null,
   "id": "0bb58aa9",
   "metadata": {},
   "outputs": [],
   "source": [
    "# Guardar resultados en CSV\n",
    "zonal_stats_df.to_csv(\"data/estadisticas_tmin.csv\", index=False, encoding=\"utf-8\")\n",
    "\n",
    "print(\"✅ Archivo guardado en: data/estadisticas_tmin.csv\")\n"
   ]
  }
 ],
 "metadata": {
  "kernelspec": {
   "display_name": "H3",
   "language": "python",
   "name": "python3"
  },
  "language_info": {
   "codemirror_mode": {
    "name": "ipython",
    "version": 3
   },
   "file_extension": ".py",
   "mimetype": "text/x-python",
   "name": "python",
   "nbconvert_exporter": "python",
   "pygments_lexer": "ipython3",
   "version": "3.10.18"
  }
 },
 "nbformat": 4,
 "nbformat_minor": 5
}
